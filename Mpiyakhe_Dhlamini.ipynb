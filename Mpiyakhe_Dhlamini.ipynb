{
 "cells": [
  {
   "cell_type": "code",
   "execution_count": 1,
   "metadata": {
    "_cell_guid": "b1076dfc-b9ad-4769-8c92-a6c4dae69d19",
    "_uuid": "8f2839f25d086af736a60e9eeb907d3b93b6e0e5",
    "collapsed": true
   },
   "outputs": [],
   "source": [
    "import pandas as pd\n",
    "import numpy as np\n",
    "import matplotlib.pyplot as plt\n",
    "%matplotlib inline\n",
    "from matplotlib.colors import ListedColormap\n",
    "import seaborn as sns\n",
    "\n",
    "# to automate the NLP extraction...\n",
    "from sklearn.feature_extraction.text import CountVectorizer\n",
    "\n",
    "# Cross_val_score is the new class for today...\n",
    "from sklearn.model_selection import cross_val_score\n",
    "from sklearn.model_selection import train_test_split\n",
    "from sklearn import metrics\n",
    "\n",
    "# from sklearn.preprocessing import StandardScaler\n",
    "# from sklearn.datasets import make_moons, make_circles, make_classification\n",
    "\n",
    "# main ones to focus on for this sprint\n",
    "from sklearn.linear_model import LogisticRegression\n",
    "# from sklearn.neighbors import KNeighborsClassifier\n",
    "from sklearn.naive_bayes import MultinomialNB\n",
    "#from sklearn.svm import SVC\n",
    "from sklearn.naive_bayes import GaussianNB\n",
    "from sklearn.discriminant_analysis import LinearDiscriminantAnalysis as LDA\n",
    "from sklearn.discriminant_analysis import QuadraticDiscriminantAnalysis as QDA\n",
    "\n",
    "# Covered in sprint 3\n",
    "from sklearn.tree import DecisionTreeClassifier as DTC\n",
    "from sklearn.ensemble import RandomForestClassifier\n",
    "\n",
    "# Covered in sprint 4\n",
    "# from sklearn.gaussian_process import GaussianProcessClassifier as GPC\n",
    "# from sklearn.gaussian_process.kernels import RBF\n",
    "\n",
    "# Neural Network!!\n",
    "#from sklearn.neural_network import MLPClassifier as Neural"
   ]
  },
  {
   "cell_type": "code",
   "execution_count": 2,
   "metadata": {
    "_cell_guid": "79c7e3d0-c299-4dcb-8224-4455121ee9b0",
    "_uuid": "d629ff2d2480ee46fbb7e2d37f6b5fab8052498a",
    "collapsed": true
   },
   "outputs": [],
   "source": [
    "from sklearn.pipeline import Pipeline"
   ]
  },
  {
   "cell_type": "code",
   "execution_count": 3,
   "metadata": {
    "_uuid": "1d69bd9e1e72555657fcdc8a9a2aeaa423892bbe",
    "collapsed": true
   },
   "outputs": [],
   "source": [
    "# import the datasets\n",
    "\n",
    "mbti = pd.read_csv('mbti_1.csv')\n",
    "\n",
    "train = pd.read_csv('train.csv')\n",
    "\n",
    "test = pd.read_csv('test.csv')\n",
    "\n",
    "essays = pd.read_csv('Essay_data.csv')"
   ]
  },
  {
   "cell_type": "markdown",
   "metadata": {
    "_uuid": "b8151aac47003f98c4032055c16d88c0be1c565b"
   },
   "source": [
    "<h1>Part I : Preprocessing</h1>"
   ]
  },
  {
   "cell_type": "code",
   "execution_count": 4,
   "metadata": {
    "_uuid": "833f72854e8a43a6ce6c754c6015b11840500549",
    "collapsed": true
   },
   "outputs": [],
   "source": [
    "# functions for removing punctuation, url's, splitting the rows and converting posts to lower case\n",
    "\n",
    "def split_rows(df):\n",
    "    \"\"\"\n",
    "        Takes a dataframe as input, splits the posts in the posts column on the '|||' separating each post\n",
    "        and returns a new, clean dataframe.\n",
    "    \"\"\"\n",
    "    all_df = []\n",
    "    for i, row in df.iterrows():\n",
    "        for post in row['posts'].split('|||'):\n",
    "            all_df.append([row['type'], post])\n",
    "    all_df = pd.DataFrame(all_df, columns=['type', 'post'])\n",
    "    return all_df\n",
    "\n",
    "def remove_urls(df):\n",
    "    \"\"\"\n",
    "        Takes a dataframe df as input and a raw string literal sub, returns a dataframe with posts\n",
    "        where all the urls have been replaced by sub.\n",
    "    \"\"\"\n",
    "    sub = r'url-web'\n",
    "    pattern_url = r'http[s]?://(?:[A-Za-z]|[0-9]|[$-_@.&+]|[!*\\(\\),]|(?:%[0-9A-Fa-f][0-9A-Fa-f]))+'\n",
    "    df['post'] = df['post'].replace(to_replace = pattern_url, value = sub, regex = True)\n",
    "    return df\n",
    "\n",
    "## lambda function for converting posts into lowercase, takes a series as input and returns a series as output\n",
    "lower = lambda x: x['post'].str.lower()\n",
    "\n",
    "def remove_punc(all_mbti):\n",
    "    \"\"\"\n",
    "        Removes punctuation from the posts in the dataframe.\n",
    "    \"\"\"\n",
    "    #remove punctuation\n",
    "    import string\n",
    "    punc_numbers = string.punctuation + '0123456789'\n",
    "    temp = lambda s: ''.join([l for l in s if l not in punc_numbers])\n",
    "    all_mbti['post'] = all_mbti['post'].apply(temp)\n",
    "    return all_mbti"
   ]
  },
  {
   "cell_type": "code",
   "execution_count": null,
   "metadata": {
    "_uuid": "85b1245fab7db7a8b29a07219aaeb3cc27e0b9e4",
    "collapsed": true
   },
   "outputs": [],
   "source": []
  },
  {
   "cell_type": "code",
   "execution_count": 5,
   "metadata": {
    "_uuid": "64512ab8cc418075400e63c0a7583be7ad8ffaea",
    "collapsed": true
   },
   "outputs": [],
   "source": [
    "def get_accuracy(data, y_tr,X_te,y_te, model):\n",
    "    model.fit(data.toarray(), y_tr)\n",
    "    \n",
    "    pred = model.predict(X_te.toarray())\n",
    "    \n",
    "    return metrics.accuracy_score(y_te, pred)\n",
    "\n",
    "def get_f1(data, y_tr, X_te, y_te, model):\n",
    "    model.fit(data.toarray(), y_tr)\n",
    "    \n",
    "    pred = model.predict(X_te.toarray())\n",
    "    return metrics.f1_score(y_te, pred)"
   ]
  },
  {
   "cell_type": "markdown",
   "metadata": {
    "_uuid": "c45be01f3c776eaa1b8e8ce3e8dc129734df7425"
   },
   "source": [
    "<h2>Apply The Pre-Processing steps</h2>"
   ]
  },
  {
   "cell_type": "code",
   "execution_count": 6,
   "metadata": {
    "_uuid": "763244f08a6599f1dac8bfd8d3e8001a4ed57a45"
   },
   "outputs": [
    {
     "data": {
      "text/plain": [
       "(8675, 2)"
      ]
     },
     "execution_count": 6,
     "metadata": {},
     "output_type": "execute_result"
    }
   ],
   "source": [
    "mbti.shape"
   ]
  },
  {
   "cell_type": "code",
   "execution_count": 7,
   "metadata": {
    "_uuid": "45ca8615dc6574bc50ecf27d2a6ebb7e71708a05"
   },
   "outputs": [
    {
     "data": {
      "text/html": [
       "<div>\n",
       "<style>\n",
       "    .dataframe thead tr:only-child th {\n",
       "        text-align: right;\n",
       "    }\n",
       "\n",
       "    .dataframe thead th {\n",
       "        text-align: left;\n",
       "    }\n",
       "\n",
       "    .dataframe tbody tr th {\n",
       "        vertical-align: top;\n",
       "    }\n",
       "</style>\n",
       "<table border=\"1\" class=\"dataframe\">\n",
       "  <thead>\n",
       "    <tr style=\"text-align: right;\">\n",
       "      <th></th>\n",
       "      <th>type</th>\n",
       "      <th>posts</th>\n",
       "    </tr>\n",
       "  </thead>\n",
       "  <tbody>\n",
       "    <tr>\n",
       "      <th>0</th>\n",
       "      <td>INFJ</td>\n",
       "      <td>'http://www.youtube.com/watch?v=qsXHcwe3krw|||...</td>\n",
       "    </tr>\n",
       "    <tr>\n",
       "      <th>1</th>\n",
       "      <td>ENTP</td>\n",
       "      <td>'I'm finding the lack of me in these posts ver...</td>\n",
       "    </tr>\n",
       "    <tr>\n",
       "      <th>2</th>\n",
       "      <td>INTP</td>\n",
       "      <td>'Good one  _____   https://www.youtube.com/wat...</td>\n",
       "    </tr>\n",
       "    <tr>\n",
       "      <th>3</th>\n",
       "      <td>INTJ</td>\n",
       "      <td>'Dear INTP,   I enjoyed our conversation the o...</td>\n",
       "    </tr>\n",
       "    <tr>\n",
       "      <th>4</th>\n",
       "      <td>ENTJ</td>\n",
       "      <td>'You're fired.|||That's another silly misconce...</td>\n",
       "    </tr>\n",
       "  </tbody>\n",
       "</table>\n",
       "</div>"
      ],
      "text/plain": [
       "   type                                              posts\n",
       "0  INFJ  'http://www.youtube.com/watch?v=qsXHcwe3krw|||...\n",
       "1  ENTP  'I'm finding the lack of me in these posts ver...\n",
       "2  INTP  'Good one  _____   https://www.youtube.com/wat...\n",
       "3  INTJ  'Dear INTP,   I enjoyed our conversation the o...\n",
       "4  ENTJ  'You're fired.|||That's another silly misconce..."
      ]
     },
     "execution_count": 7,
     "metadata": {},
     "output_type": "execute_result"
    }
   ],
   "source": [
    "mbti.head()"
   ]
  },
  {
   "cell_type": "code",
   "execution_count": 8,
   "metadata": {
    "_uuid": "cf9eba61e6e7f0bd394d0501efc742816e353604"
   },
   "outputs": [
    {
     "name": "stdout",
     "output_type": "stream",
     "text": [
      "<class 'pandas.core.frame.DataFrame'>\n",
      "RangeIndex: 8675 entries, 0 to 8674\n",
      "Data columns (total 2 columns):\n",
      "type     8675 non-null object\n",
      "posts    8675 non-null object\n",
      "dtypes: object(2)\n",
      "memory usage: 135.6+ KB\n"
     ]
    }
   ],
   "source": [
    "mbti.info()"
   ]
  },
  {
   "cell_type": "code",
   "execution_count": 9,
   "metadata": {
    "_uuid": "1dcb1292ab17c0ccc5bfe91ac0d5a069f7b78ea1"
   },
   "outputs": [
    {
     "data": {
      "text/html": [
       "<div>\n",
       "<style>\n",
       "    .dataframe thead tr:only-child th {\n",
       "        text-align: right;\n",
       "    }\n",
       "\n",
       "    .dataframe thead th {\n",
       "        text-align: left;\n",
       "    }\n",
       "\n",
       "    .dataframe tbody tr th {\n",
       "        vertical-align: top;\n",
       "    }\n",
       "</style>\n",
       "<table border=\"1\" class=\"dataframe\">\n",
       "  <thead>\n",
       "    <tr style=\"text-align: right;\">\n",
       "      <th></th>\n",
       "      <th>type</th>\n",
       "      <th>posts</th>\n",
       "    </tr>\n",
       "  </thead>\n",
       "  <tbody>\n",
       "    <tr>\n",
       "      <th>count</th>\n",
       "      <td>8675</td>\n",
       "      <td>8675</td>\n",
       "    </tr>\n",
       "    <tr>\n",
       "      <th>unique</th>\n",
       "      <td>16</td>\n",
       "      <td>8675</td>\n",
       "    </tr>\n",
       "    <tr>\n",
       "      <th>top</th>\n",
       "      <td>INFP</td>\n",
       "      <td>'yes ; ; this has very much been my wish for a...</td>\n",
       "    </tr>\n",
       "    <tr>\n",
       "      <th>freq</th>\n",
       "      <td>1832</td>\n",
       "      <td>1</td>\n",
       "    </tr>\n",
       "  </tbody>\n",
       "</table>\n",
       "</div>"
      ],
      "text/plain": [
       "        type                                              posts\n",
       "count   8675                                               8675\n",
       "unique    16                                               8675\n",
       "top     INFP  'yes ; ; this has very much been my wish for a...\n",
       "freq    1832                                                  1"
      ]
     },
     "execution_count": 9,
     "metadata": {},
     "output_type": "execute_result"
    }
   ],
   "source": [
    "mbti.describe()"
   ]
  },
  {
   "cell_type": "code",
   "execution_count": 10,
   "metadata": {
    "_uuid": "1e3449b88a78d6062095d49d0a8d711d50bd0810"
   },
   "outputs": [
    {
     "data": {
      "text/plain": [
       "(6506, 2)"
      ]
     },
     "execution_count": 10,
     "metadata": {},
     "output_type": "execute_result"
    }
   ],
   "source": [
    "train.shape"
   ]
  },
  {
   "cell_type": "code",
   "execution_count": 11,
   "metadata": {
    "_uuid": "4110c9340b28748a2dcee9e2884c6fb50cd37036"
   },
   "outputs": [
    {
     "data": {
      "text/plain": [
       "(316548, 2)"
      ]
     },
     "execution_count": 11,
     "metadata": {},
     "output_type": "execute_result"
    }
   ],
   "source": [
    "# Unpack the posts\n",
    "\n",
    "train = split_rows(train)\n",
    "\n",
    "train.shape"
   ]
  },
  {
   "cell_type": "code",
   "execution_count": 12,
   "metadata": {},
   "outputs": [
    {
     "data": {
      "text/html": [
       "<div>\n",
       "<style>\n",
       "    .dataframe thead tr:only-child th {\n",
       "        text-align: right;\n",
       "    }\n",
       "\n",
       "    .dataframe thead th {\n",
       "        text-align: left;\n",
       "    }\n",
       "\n",
       "    .dataframe tbody tr th {\n",
       "        vertical-align: top;\n",
       "    }\n",
       "</style>\n",
       "<table border=\"1\" class=\"dataframe\">\n",
       "  <thead>\n",
       "    <tr style=\"text-align: right;\">\n",
       "      <th></th>\n",
       "      <th>type</th>\n",
       "      <th>post</th>\n",
       "    </tr>\n",
       "  </thead>\n",
       "  <tbody>\n",
       "    <tr>\n",
       "      <th>0</th>\n",
       "      <td>INFJ</td>\n",
       "      <td>'http://www.youtube.com/watch?v=qsXHcwe3krw</td>\n",
       "    </tr>\n",
       "    <tr>\n",
       "      <th>1</th>\n",
       "      <td>INFJ</td>\n",
       "      <td>http://41.media.tumblr.com/tumblr_lfouy03PMA1q...</td>\n",
       "    </tr>\n",
       "    <tr>\n",
       "      <th>2</th>\n",
       "      <td>INFJ</td>\n",
       "      <td>enfp and intj moments  https://www.youtube.com...</td>\n",
       "    </tr>\n",
       "    <tr>\n",
       "      <th>3</th>\n",
       "      <td>INFJ</td>\n",
       "      <td>What has been the most life-changing experienc...</td>\n",
       "    </tr>\n",
       "    <tr>\n",
       "      <th>4</th>\n",
       "      <td>INFJ</td>\n",
       "      <td>http://www.youtube.com/watch?v=vXZeYwwRDw8   h...</td>\n",
       "    </tr>\n",
       "  </tbody>\n",
       "</table>\n",
       "</div>"
      ],
      "text/plain": [
       "   type                                               post\n",
       "0  INFJ        'http://www.youtube.com/watch?v=qsXHcwe3krw\n",
       "1  INFJ  http://41.media.tumblr.com/tumblr_lfouy03PMA1q...\n",
       "2  INFJ  enfp and intj moments  https://www.youtube.com...\n",
       "3  INFJ  What has been the most life-changing experienc...\n",
       "4  INFJ  http://www.youtube.com/watch?v=vXZeYwwRDw8   h..."
      ]
     },
     "execution_count": 12,
     "metadata": {},
     "output_type": "execute_result"
    }
   ],
   "source": [
    "train.head()"
   ]
  },
  {
   "cell_type": "code",
   "execution_count": 13,
   "metadata": {
    "collapsed": true
   },
   "outputs": [],
   "source": [
    "# remove web urls\n",
    "\n",
    "train = remove_urls(train)"
   ]
  },
  {
   "cell_type": "code",
   "execution_count": 14,
   "metadata": {},
   "outputs": [
    {
     "data": {
      "text/html": [
       "<div>\n",
       "<style>\n",
       "    .dataframe thead tr:only-child th {\n",
       "        text-align: right;\n",
       "    }\n",
       "\n",
       "    .dataframe thead th {\n",
       "        text-align: left;\n",
       "    }\n",
       "\n",
       "    .dataframe tbody tr th {\n",
       "        vertical-align: top;\n",
       "    }\n",
       "</style>\n",
       "<table border=\"1\" class=\"dataframe\">\n",
       "  <thead>\n",
       "    <tr style=\"text-align: right;\">\n",
       "      <th></th>\n",
       "      <th>type</th>\n",
       "      <th>post</th>\n",
       "    </tr>\n",
       "  </thead>\n",
       "  <tbody>\n",
       "    <tr>\n",
       "      <th>0</th>\n",
       "      <td>INFJ</td>\n",
       "      <td>'url-web</td>\n",
       "    </tr>\n",
       "    <tr>\n",
       "      <th>1</th>\n",
       "      <td>INFJ</td>\n",
       "      <td>url-web</td>\n",
       "    </tr>\n",
       "    <tr>\n",
       "      <th>2</th>\n",
       "      <td>INFJ</td>\n",
       "      <td>enfp and intj moments  url-web  sportscenter n...</td>\n",
       "    </tr>\n",
       "    <tr>\n",
       "      <th>3</th>\n",
       "      <td>INFJ</td>\n",
       "      <td>What has been the most life-changing experienc...</td>\n",
       "    </tr>\n",
       "    <tr>\n",
       "      <th>4</th>\n",
       "      <td>INFJ</td>\n",
       "      <td>url-web   url-web  On repeat for most of today.</td>\n",
       "    </tr>\n",
       "  </tbody>\n",
       "</table>\n",
       "</div>"
      ],
      "text/plain": [
       "   type                                               post\n",
       "0  INFJ                                           'url-web\n",
       "1  INFJ                                            url-web\n",
       "2  INFJ  enfp and intj moments  url-web  sportscenter n...\n",
       "3  INFJ  What has been the most life-changing experienc...\n",
       "4  INFJ    url-web   url-web  On repeat for most of today."
      ]
     },
     "execution_count": 14,
     "metadata": {},
     "output_type": "execute_result"
    }
   ],
   "source": [
    "train.head()"
   ]
  },
  {
   "cell_type": "code",
   "execution_count": 15,
   "metadata": {
    "collapsed": true
   },
   "outputs": [],
   "source": [
    "# make lowercase\n",
    "\n",
    "train['post'] = lower(train)"
   ]
  },
  {
   "cell_type": "code",
   "execution_count": 16,
   "metadata": {},
   "outputs": [
    {
     "data": {
      "text/html": [
       "<div>\n",
       "<style>\n",
       "    .dataframe thead tr:only-child th {\n",
       "        text-align: right;\n",
       "    }\n",
       "\n",
       "    .dataframe thead th {\n",
       "        text-align: left;\n",
       "    }\n",
       "\n",
       "    .dataframe tbody tr th {\n",
       "        vertical-align: top;\n",
       "    }\n",
       "</style>\n",
       "<table border=\"1\" class=\"dataframe\">\n",
       "  <thead>\n",
       "    <tr style=\"text-align: right;\">\n",
       "      <th></th>\n",
       "      <th>type</th>\n",
       "      <th>post</th>\n",
       "    </tr>\n",
       "  </thead>\n",
       "  <tbody>\n",
       "    <tr>\n",
       "      <th>0</th>\n",
       "      <td>INFJ</td>\n",
       "      <td>'url-web</td>\n",
       "    </tr>\n",
       "    <tr>\n",
       "      <th>1</th>\n",
       "      <td>INFJ</td>\n",
       "      <td>url-web</td>\n",
       "    </tr>\n",
       "    <tr>\n",
       "      <th>2</th>\n",
       "      <td>INFJ</td>\n",
       "      <td>enfp and intj moments  url-web  sportscenter n...</td>\n",
       "    </tr>\n",
       "    <tr>\n",
       "      <th>3</th>\n",
       "      <td>INFJ</td>\n",
       "      <td>what has been the most life-changing experienc...</td>\n",
       "    </tr>\n",
       "    <tr>\n",
       "      <th>4</th>\n",
       "      <td>INFJ</td>\n",
       "      <td>url-web   url-web  on repeat for most of today.</td>\n",
       "    </tr>\n",
       "  </tbody>\n",
       "</table>\n",
       "</div>"
      ],
      "text/plain": [
       "   type                                               post\n",
       "0  INFJ                                           'url-web\n",
       "1  INFJ                                            url-web\n",
       "2  INFJ  enfp and intj moments  url-web  sportscenter n...\n",
       "3  INFJ  what has been the most life-changing experienc...\n",
       "4  INFJ    url-web   url-web  on repeat for most of today."
      ]
     },
     "execution_count": 16,
     "metadata": {},
     "output_type": "execute_result"
    }
   ],
   "source": [
    "train.head()"
   ]
  },
  {
   "cell_type": "code",
   "execution_count": 17,
   "metadata": {
    "collapsed": true
   },
   "outputs": [],
   "source": [
    "# remove punctuation\n",
    "\n",
    "train = remove_punc(train)"
   ]
  },
  {
   "cell_type": "code",
   "execution_count": 18,
   "metadata": {},
   "outputs": [
    {
     "data": {
      "text/html": [
       "<div>\n",
       "<style>\n",
       "    .dataframe thead tr:only-child th {\n",
       "        text-align: right;\n",
       "    }\n",
       "\n",
       "    .dataframe thead th {\n",
       "        text-align: left;\n",
       "    }\n",
       "\n",
       "    .dataframe tbody tr th {\n",
       "        vertical-align: top;\n",
       "    }\n",
       "</style>\n",
       "<table border=\"1\" class=\"dataframe\">\n",
       "  <thead>\n",
       "    <tr style=\"text-align: right;\">\n",
       "      <th></th>\n",
       "      <th>type</th>\n",
       "      <th>post</th>\n",
       "    </tr>\n",
       "  </thead>\n",
       "  <tbody>\n",
       "    <tr>\n",
       "      <th>0</th>\n",
       "      <td>INFJ</td>\n",
       "      <td>urlweb</td>\n",
       "    </tr>\n",
       "    <tr>\n",
       "      <th>1</th>\n",
       "      <td>INFJ</td>\n",
       "      <td>urlweb</td>\n",
       "    </tr>\n",
       "    <tr>\n",
       "      <th>2</th>\n",
       "      <td>INFJ</td>\n",
       "      <td>enfp and intj moments  urlweb  sportscenter no...</td>\n",
       "    </tr>\n",
       "    <tr>\n",
       "      <th>3</th>\n",
       "      <td>INFJ</td>\n",
       "      <td>what has been the most lifechanging experience...</td>\n",
       "    </tr>\n",
       "    <tr>\n",
       "      <th>4</th>\n",
       "      <td>INFJ</td>\n",
       "      <td>urlweb   urlweb  on repeat for most of today</td>\n",
       "    </tr>\n",
       "  </tbody>\n",
       "</table>\n",
       "</div>"
      ],
      "text/plain": [
       "   type                                               post\n",
       "0  INFJ                                             urlweb\n",
       "1  INFJ                                             urlweb\n",
       "2  INFJ  enfp and intj moments  urlweb  sportscenter no...\n",
       "3  INFJ  what has been the most lifechanging experience...\n",
       "4  INFJ       urlweb   urlweb  on repeat for most of today"
      ]
     },
     "execution_count": 18,
     "metadata": {},
     "output_type": "execute_result"
    }
   ],
   "source": [
    "train.head()"
   ]
  },
  {
   "cell_type": "code",
   "execution_count": 19,
   "metadata": {
    "_uuid": "14ed627faedb8eba2e01d6f4417af3afe349f555",
    "collapsed": true
   },
   "outputs": [],
   "source": [
    "# We shuffle the dataframe we just split to reduce noise from the ordering of the posts.\n",
    "\n",
    "train = train.sample(frac=1).reset_index(drop=True)"
   ]
  },
  {
   "cell_type": "code",
   "execution_count": 20,
   "metadata": {
    "_uuid": "e9f7ad1f0cd33515dded3b6da143e2f46d20db00"
   },
   "outputs": [
    {
     "data": {
      "text/html": [
       "<div>\n",
       "<style>\n",
       "    .dataframe thead tr:only-child th {\n",
       "        text-align: right;\n",
       "    }\n",
       "\n",
       "    .dataframe thead th {\n",
       "        text-align: left;\n",
       "    }\n",
       "\n",
       "    .dataframe tbody tr th {\n",
       "        vertical-align: top;\n",
       "    }\n",
       "</style>\n",
       "<table border=\"1\" class=\"dataframe\">\n",
       "  <thead>\n",
       "    <tr style=\"text-align: right;\">\n",
       "      <th></th>\n",
       "      <th>type</th>\n",
       "      <th>post</th>\n",
       "    </tr>\n",
       "  </thead>\n",
       "  <tbody>\n",
       "    <tr>\n",
       "      <th>0</th>\n",
       "      <td>INTJ</td>\n",
       "      <td>maybe i can make up for it  the brief history ...</td>\n",
       "    </tr>\n",
       "    <tr>\n",
       "      <th>1</th>\n",
       "      <td>INTJ</td>\n",
       "      <td>archery and i like italso i have practiced swi...</td>\n",
       "    </tr>\n",
       "    <tr>\n",
       "      <th>2</th>\n",
       "      <td>ENFP</td>\n",
       "      <td>i confess im afraid of being undeserving c dea...</td>\n",
       "    </tr>\n",
       "    <tr>\n",
       "      <th>3</th>\n",
       "      <td>ENTJ</td>\n",
       "      <td>well said i cant think of another way to say i...</td>\n",
       "    </tr>\n",
       "    <tr>\n",
       "      <th>4</th>\n",
       "      <td>ISTP</td>\n",
       "      <td>there isnt a person in my life that i would sa...</td>\n",
       "    </tr>\n",
       "  </tbody>\n",
       "</table>\n",
       "</div>"
      ],
      "text/plain": [
       "   type                                               post\n",
       "0  INTJ  maybe i can make up for it  the brief history ...\n",
       "1  INTJ  archery and i like italso i have practiced swi...\n",
       "2  ENFP  i confess im afraid of being undeserving c dea...\n",
       "3  ENTJ  well said i cant think of another way to say i...\n",
       "4  ISTP  there isnt a person in my life that i would sa..."
      ]
     },
     "execution_count": 20,
     "metadata": {},
     "output_type": "execute_result"
    }
   ],
   "source": [
    "train.head()"
   ]
  },
  {
   "cell_type": "code",
   "execution_count": 21,
   "metadata": {
    "_uuid": "080c5a2f1c54873c72e0bc7bfd6dc5d0bf4f71d1",
    "collapsed": true
   },
   "outputs": [],
   "source": [
    "# create columns for each type\n",
    "\n",
    "def create_cols(df):\n",
    "    \n",
    "    df['first'] = df.apply(lambda row: row['type'][0], axis = 1)\n",
    "    df['second'] = df.apply(lambda row: row['type'][1], axis = 1)\n",
    "    df['third'] = df.apply(lambda row: row['type'][2], axis = 1)\n",
    "    df['fourth'] = df.apply(lambda row: row['type'][3], axis = 1)\n",
    "    \n",
    "    return df"
   ]
  },
  {
   "cell_type": "code",
   "execution_count": 22,
   "metadata": {
    "_uuid": "5b69da8870b0f05d464e18ef19c4d042cdf8f36d",
    "collapsed": true
   },
   "outputs": [],
   "source": [
    "train = create_cols(train)"
   ]
  },
  {
   "cell_type": "code",
   "execution_count": 23,
   "metadata": {
    "_uuid": "f68e7a2f5905fe79f4f49e65c45ddecfcde356b7"
   },
   "outputs": [
    {
     "data": {
      "text/html": [
       "<div>\n",
       "<style>\n",
       "    .dataframe thead tr:only-child th {\n",
       "        text-align: right;\n",
       "    }\n",
       "\n",
       "    .dataframe thead th {\n",
       "        text-align: left;\n",
       "    }\n",
       "\n",
       "    .dataframe tbody tr th {\n",
       "        vertical-align: top;\n",
       "    }\n",
       "</style>\n",
       "<table border=\"1\" class=\"dataframe\">\n",
       "  <thead>\n",
       "    <tr style=\"text-align: right;\">\n",
       "      <th></th>\n",
       "      <th>type</th>\n",
       "      <th>post</th>\n",
       "      <th>first</th>\n",
       "      <th>second</th>\n",
       "      <th>third</th>\n",
       "      <th>fourth</th>\n",
       "    </tr>\n",
       "  </thead>\n",
       "  <tbody>\n",
       "    <tr>\n",
       "      <th>0</th>\n",
       "      <td>INTJ</td>\n",
       "      <td>maybe i can make up for it  the brief history ...</td>\n",
       "      <td>I</td>\n",
       "      <td>N</td>\n",
       "      <td>T</td>\n",
       "      <td>J</td>\n",
       "    </tr>\n",
       "    <tr>\n",
       "      <th>1</th>\n",
       "      <td>INTJ</td>\n",
       "      <td>archery and i like italso i have practiced swi...</td>\n",
       "      <td>I</td>\n",
       "      <td>N</td>\n",
       "      <td>T</td>\n",
       "      <td>J</td>\n",
       "    </tr>\n",
       "    <tr>\n",
       "      <th>2</th>\n",
       "      <td>ENFP</td>\n",
       "      <td>i confess im afraid of being undeserving c dea...</td>\n",
       "      <td>E</td>\n",
       "      <td>N</td>\n",
       "      <td>F</td>\n",
       "      <td>P</td>\n",
       "    </tr>\n",
       "    <tr>\n",
       "      <th>3</th>\n",
       "      <td>ENTJ</td>\n",
       "      <td>well said i cant think of another way to say i...</td>\n",
       "      <td>E</td>\n",
       "      <td>N</td>\n",
       "      <td>T</td>\n",
       "      <td>J</td>\n",
       "    </tr>\n",
       "    <tr>\n",
       "      <th>4</th>\n",
       "      <td>ISTP</td>\n",
       "      <td>there isnt a person in my life that i would sa...</td>\n",
       "      <td>I</td>\n",
       "      <td>S</td>\n",
       "      <td>T</td>\n",
       "      <td>P</td>\n",
       "    </tr>\n",
       "  </tbody>\n",
       "</table>\n",
       "</div>"
      ],
      "text/plain": [
       "   type                                               post first second third  \\\n",
       "0  INTJ  maybe i can make up for it  the brief history ...     I      N     T   \n",
       "1  INTJ  archery and i like italso i have practiced swi...     I      N     T   \n",
       "2  ENFP  i confess im afraid of being undeserving c dea...     E      N     F   \n",
       "3  ENTJ  well said i cant think of another way to say i...     E      N     T   \n",
       "4  ISTP  there isnt a person in my life that i would sa...     I      S     T   \n",
       "\n",
       "  fourth  \n",
       "0      J  \n",
       "1      J  \n",
       "2      P  \n",
       "3      J  \n",
       "4      P  "
      ]
     },
     "execution_count": 23,
     "metadata": {},
     "output_type": "execute_result"
    }
   ],
   "source": [
    "train.head()"
   ]
  },
  {
   "cell_type": "markdown",
   "metadata": {
    "_uuid": "d538e88144492aaa88a41e54a717e6b1df8d9f8e"
   },
   "source": [
    "<h3>I vs E</h3>"
   ]
  },
  {
   "cell_type": "code",
   "execution_count": 24,
   "metadata": {
    "_uuid": "2dad9212802a4bd6a3c844368cc749b3d14b1e93",
    "collapsed": true
   },
   "outputs": [],
   "source": [
    "classifiers = [LogisticRegression(), MultinomialNB(), \n",
    "               GaussianNB(), LDA(), QDA(), DTC(max_depth = 5), \n",
    "               RandomForestClassifier(max_depth = 5, n_estimators = 10, max_features = 1)\n",
    "              ]\n",
    "\n",
    "names = ['Logistic Regression', 'Multinomial Naive Bayes',\n",
    "         'Gaussian Naive Bayes', 'LDA', \"QDA\",\n",
    "         \"Decision Tree\", \"Random Forest\"\n",
    "        ]"
   ]
  },
  {
   "cell_type": "code",
   "execution_count": 25,
   "metadata": {
    "_uuid": "ee931ef63cf8604e93f8bdc81aaa1c2d7a9f6b7b",
    "collapsed": true
   },
   "outputs": [],
   "source": [
    "X = train['post']\n",
    "\n",
    "y1 = train['first']\n",
    "\n",
    "y2 = train['second']\n",
    "\n",
    "y3 = train['third']\n",
    "\n",
    "y4 = train['fourth']"
   ]
  },
  {
   "cell_type": "code",
   "execution_count": 26,
   "metadata": {
    "_uuid": "bb1870a8be558d6123188a7a6f76bb1fc7fb41c7"
   },
   "outputs": [
    {
     "data": {
      "text/plain": [
       "(243222,)"
      ]
     },
     "execution_count": 26,
     "metadata": {},
     "output_type": "execute_result"
    }
   ],
   "source": [
    "y1[y1 == 'I'].shape"
   ]
  },
  {
   "cell_type": "code",
   "execution_count": 27,
   "metadata": {
    "_uuid": "4699bbd5bfae36017633751d4f0a04f2f51a5685"
   },
   "outputs": [
    {
     "data": {
      "text/plain": [
       "(73326,)"
      ]
     },
     "execution_count": 27,
     "metadata": {},
     "output_type": "execute_result"
    }
   ],
   "source": [
    "y1[y1 == 'E'].shape"
   ]
  },
  {
   "cell_type": "code",
   "execution_count": null,
   "metadata": {
    "_uuid": "58f991d99e7fb2a9b1004865482bc8cd909a3f10",
    "collapsed": true
   },
   "outputs": [],
   "source": []
  },
  {
   "cell_type": "code",
   "execution_count": 28,
   "metadata": {
    "_uuid": "6b9ff2ec66ea64d43afcd8800a18e4ec657cce5f",
    "collapsed": true
   },
   "outputs": [],
   "source": [
    " def fit_all(xtr, ytr, xte, yte):\n",
    "        \n",
    "    import time\n",
    "        \n",
    "    results = []\n",
    "\n",
    "    for name, clf in zip(names, classifiers):\n",
    "\n",
    "        print ('... scoring')\n",
    "        print('...' + name)\n",
    "        start = time.time()\n",
    "        accuracy  = get_accuracy( xtr, ytr, xte, yte, clf)\n",
    "        f1 = get_f1(xtr, ytr, xte, yte, clf)\n",
    "        duration = time.time() - start\n",
    "        print('... done!')\n",
    "        print()\n",
    "\n",
    "        results.append([name, accuracy, f1, (accuracy+f1)/2.0, duration])\n",
    "\n",
    "\n",
    "    results = pd.DataFrame(results, columns=['Classifier', 'Accuracy', 'f1', 'Mean (f1 and accuracy)', 'duration'])\n",
    "    results.set_index('Classifier', inplace= True)\n",
    "    \n",
    "    return results"
   ]
  },
  {
   "cell_type": "code",
   "execution_count": 29,
   "metadata": {
    "_uuid": "522c1a393dde68e95859fd2d6ca18c9f3b3ac581",
    "collapsed": true
   },
   "outputs": [],
   "source": [
    "cv = CountVectorizer(stop_words = 'english', min_df = 0.1)"
   ]
  },
  {
   "cell_type": "code",
   "execution_count": 30,
   "metadata": {
    "_uuid": "e0d8e9a14dc16be64c29e59f134aa9fe82fe7c92",
    "collapsed": true
   },
   "outputs": [],
   "source": [
    "X = cv.fit_transform(X)"
   ]
  },
  {
   "cell_type": "code",
   "execution_count": 31,
   "metadata": {
    "collapsed": true
   },
   "outputs": [],
   "source": [
    "from sklearn.preprocessing import LabelEncoder"
   ]
  },
  {
   "cell_type": "code",
   "execution_count": 32,
   "metadata": {
    "collapsed": true
   },
   "outputs": [],
   "source": [
    "le1 = LabelEncoder()\n",
    "y1 = le1.fit_transform(y1)\n",
    "\n",
    "le2 = LabelEncoder()\n",
    "y2 = le2.fit_transform(y2)\n",
    "\n",
    "le3 = LabelEncoder()\n",
    "y3 = le3.fit_transform(y3)\n",
    "\n",
    "le4 = LabelEncoder()\n",
    "y4 = le4.fit_transform(y4)"
   ]
  },
  {
   "cell_type": "code",
   "execution_count": 33,
   "metadata": {
    "_uuid": "211edab4fff05275a63f03524642f39225c7b961",
    "collapsed": true
   },
   "outputs": [],
   "source": [
    "X_train1, X_test1, y_train1, y_test1 = train_test_split(X, y1)\n",
    "\n",
    "X_train2, X_test2, y_train2, y_test2 = train_test_split(X, y2)\n",
    "\n",
    "X_train3, X_test3, y_train3, y_test3 = train_test_split(X, y3)\n",
    "\n",
    "X_train4, X_test4, y_train4, y_test4 = train_test_split(X, y4)"
   ]
  },
  {
   "cell_type": "code",
   "execution_count": 34,
   "metadata": {
    "_uuid": "6eafa74979f6293a4fde716c5e8884150d4834a3"
   },
   "outputs": [
    {
     "data": {
      "text/plain": [
       "(237411, 5)"
      ]
     },
     "execution_count": 34,
     "metadata": {},
     "output_type": "execute_result"
    }
   ],
   "source": [
    "X_train2.shape"
   ]
  },
  {
   "cell_type": "code",
   "execution_count": 35,
   "metadata": {
    "_uuid": "ba209b0b40aa184682ef26e13f70917f504648fe"
   },
   "outputs": [
    {
     "data": {
      "text/plain": [
       "(237411,)"
      ]
     },
     "execution_count": 35,
     "metadata": {},
     "output_type": "execute_result"
    }
   ],
   "source": [
    "y_train1.shape"
   ]
  },
  {
   "cell_type": "code",
   "execution_count": null,
   "metadata": {
    "_uuid": "dd5cc7f3af6fbe1357ab57bfb5853b76da49cf23",
    "collapsed": true
   },
   "outputs": [],
   "source": []
  },
  {
   "cell_type": "code",
   "execution_count": 36,
   "metadata": {
    "_uuid": "72e1701ad7b383e5750e7cdea302b626a6d4f110"
   },
   "outputs": [
    {
     "data": {
      "text/plain": [
       "1"
      ]
     },
     "execution_count": 36,
     "metadata": {},
     "output_type": "execute_result"
    }
   ],
   "source": [
    "y_train1[0]"
   ]
  },
  {
   "cell_type": "code",
   "execution_count": 37,
   "metadata": {
    "_uuid": "3a9b60d735a1f7c432189b366f7f288de01d346f"
   },
   "outputs": [
    {
     "name": "stdout",
     "output_type": "stream",
     "text": [
      "... scoring\n",
      "...Logistic Regression\n",
      "... done!\n",
      "\n",
      "... scoring\n",
      "...Multinomial Naive Bayes\n",
      "... done!\n",
      "\n",
      "... scoring\n",
      "...Gaussian Naive Bayes\n",
      "... done!\n",
      "\n",
      "... scoring\n",
      "...LDA\n",
      "... done!\n",
      "\n",
      "... scoring\n",
      "...QDA\n",
      "... done!\n",
      "\n",
      "... scoring\n",
      "...Decision Tree\n",
      "... done!\n",
      "\n",
      "... scoring\n",
      "...Random Forest\n",
      "... done!\n",
      "\n",
      "... scoring\n",
      "...Logistic Regression\n"
     ]
    },
    {
     "name": "stderr",
     "output_type": "stream",
     "text": [
      "/home/ubuntu/anaconda3/lib/python3.6/site-packages/sklearn/metrics/classification.py:1135: UndefinedMetricWarning: F-score is ill-defined and being set to 0.0 due to no predicted samples.\n",
      "  'precision', 'predicted', average, warn_for)\n"
     ]
    },
    {
     "name": "stdout",
     "output_type": "stream",
     "text": [
      "... done!\n",
      "\n",
      "... scoring\n",
      "...Multinomial Naive Bayes\n",
      "... done!\n",
      "\n",
      "... scoring\n",
      "...Gaussian Naive Bayes\n",
      "... done!\n",
      "\n",
      "... scoring\n",
      "...LDA\n",
      "... done!\n",
      "\n",
      "... scoring\n",
      "...QDA\n",
      "... done!\n",
      "\n",
      "... scoring\n",
      "...Decision Tree\n",
      "... done!\n",
      "\n",
      "... scoring\n",
      "...Random Forest\n"
     ]
    },
    {
     "name": "stderr",
     "output_type": "stream",
     "text": [
      "/home/ubuntu/anaconda3/lib/python3.6/site-packages/sklearn/metrics/classification.py:1135: UndefinedMetricWarning: F-score is ill-defined and being set to 0.0 due to no predicted samples.\n",
      "  'precision', 'predicted', average, warn_for)\n"
     ]
    },
    {
     "name": "stdout",
     "output_type": "stream",
     "text": [
      "... done!\n",
      "\n",
      "... scoring\n",
      "...Logistic Regression\n",
      "... done!\n",
      "\n",
      "... scoring\n",
      "...Multinomial Naive Bayes\n",
      "... done!\n",
      "\n",
      "... scoring\n",
      "...Gaussian Naive Bayes\n",
      "... done!\n",
      "\n",
      "... scoring\n",
      "...LDA\n",
      "... done!\n",
      "\n",
      "... scoring\n",
      "...QDA\n",
      "... done!\n",
      "\n",
      "... scoring\n",
      "...Decision Tree\n",
      "... done!\n",
      "\n",
      "... scoring\n",
      "...Random Forest\n",
      "... done!\n",
      "\n",
      "... scoring\n",
      "...Logistic Regression\n",
      "... done!\n",
      "\n",
      "... scoring\n",
      "...Multinomial Naive Bayes\n",
      "... done!\n",
      "\n",
      "... scoring\n",
      "...Gaussian Naive Bayes\n",
      "... done!\n",
      "\n",
      "... scoring\n",
      "...LDA\n",
      "... done!\n",
      "\n",
      "... scoring\n",
      "...QDA\n",
      "... done!\n",
      "\n",
      "... scoring\n",
      "...Decision Tree\n",
      "... done!\n",
      "\n",
      "... scoring\n",
      "...Random Forest\n",
      "... done!\n",
      "\n"
     ]
    }
   ],
   "source": [
    "rdfs = [fit_all(X_train1, y_train1, X_test1, y_test1), fit_all(X_train2, y_train2, X_test2, y_test2), \n",
    "        fit_all(X_train3, y_train3, X_test3, y_test3), fit_all(X_train4, y_train4, X_test4, y_test4)\n",
    "       ]"
   ]
  },
  {
   "cell_type": "code",
   "execution_count": 38,
   "metadata": {
    "_uuid": "279c2f63f98f2b711344d78b00edb6afabbeb5d5"
   },
   "outputs": [
    {
     "name": "stdout",
     "output_type": "stream",
     "text": [
      "hjkh\n"
     ]
    }
   ],
   "source": [
    "print('hjkh')"
   ]
  },
  {
   "cell_type": "code",
   "execution_count": 39,
   "metadata": {
    "_uuid": "ba97eb54f6aa4311ca912ff51b025fe18118891a"
   },
   "outputs": [
    {
     "data": {
      "text/html": [
       "<div>\n",
       "<style>\n",
       "    .dataframe thead tr:only-child th {\n",
       "        text-align: right;\n",
       "    }\n",
       "\n",
       "    .dataframe thead th {\n",
       "        text-align: left;\n",
       "    }\n",
       "\n",
       "    .dataframe tbody tr th {\n",
       "        vertical-align: top;\n",
       "    }\n",
       "</style>\n",
       "<table border=\"1\" class=\"dataframe\">\n",
       "  <thead>\n",
       "    <tr style=\"text-align: right;\">\n",
       "      <th></th>\n",
       "      <th></th>\n",
       "      <th>Accuracy</th>\n",
       "      <th>f1</th>\n",
       "      <th>Mean (f1 and accuracy)</th>\n",
       "      <th>duration</th>\n",
       "    </tr>\n",
       "    <tr>\n",
       "      <th></th>\n",
       "      <th>Classifier</th>\n",
       "      <th></th>\n",
       "      <th></th>\n",
       "      <th></th>\n",
       "      <th></th>\n",
       "    </tr>\n",
       "  </thead>\n",
       "  <tbody>\n",
       "    <tr>\n",
       "      <th rowspan=\"7\" valign=\"top\">First</th>\n",
       "      <th>Logistic Regression</th>\n",
       "      <td>0.769160</td>\n",
       "      <td>0.869520</td>\n",
       "      <td>0.819340</td>\n",
       "      <td>0.634491</td>\n",
       "    </tr>\n",
       "    <tr>\n",
       "      <th>Multinomial Naive Bayes</th>\n",
       "      <td>0.769160</td>\n",
       "      <td>0.869520</td>\n",
       "      <td>0.819340</td>\n",
       "      <td>0.114032</td>\n",
       "    </tr>\n",
       "    <tr>\n",
       "      <th>Gaussian Naive Bayes</th>\n",
       "      <td>0.769059</td>\n",
       "      <td>0.869442</td>\n",
       "      <td>0.819250</td>\n",
       "      <td>0.168010</td>\n",
       "    </tr>\n",
       "    <tr>\n",
       "      <th>LDA</th>\n",
       "      <td>0.769160</td>\n",
       "      <td>0.869520</td>\n",
       "      <td>0.819340</td>\n",
       "      <td>0.247898</td>\n",
       "    </tr>\n",
       "    <tr>\n",
       "      <th>QDA</th>\n",
       "      <td>0.769021</td>\n",
       "      <td>0.869414</td>\n",
       "      <td>0.819218</td>\n",
       "      <td>0.137647</td>\n",
       "    </tr>\n",
       "    <tr>\n",
       "      <th>Decision Tree</th>\n",
       "      <td>0.769147</td>\n",
       "      <td>0.869512</td>\n",
       "      <td>0.819329</td>\n",
       "      <td>0.147280</td>\n",
       "    </tr>\n",
       "    <tr>\n",
       "      <th>Random Forest</th>\n",
       "      <td>0.769160</td>\n",
       "      <td>0.869520</td>\n",
       "      <td>0.819340</td>\n",
       "      <td>0.810233</td>\n",
       "    </tr>\n",
       "    <tr>\n",
       "      <th rowspan=\"7\" valign=\"top\">Second</th>\n",
       "      <th>Logistic Regression</th>\n",
       "      <td>0.863022</td>\n",
       "      <td>0.000000</td>\n",
       "      <td>0.431511</td>\n",
       "      <td>0.577717</td>\n",
       "    </tr>\n",
       "    <tr>\n",
       "      <th>Multinomial Naive Bayes</th>\n",
       "      <td>0.863022</td>\n",
       "      <td>0.000000</td>\n",
       "      <td>0.431511</td>\n",
       "      <td>0.098968</td>\n",
       "    </tr>\n",
       "    <tr>\n",
       "      <th>Gaussian Naive Bayes</th>\n",
       "      <td>0.861696</td>\n",
       "      <td>0.004366</td>\n",
       "      <td>0.433031</td>\n",
       "      <td>0.167082</td>\n",
       "    </tr>\n",
       "    <tr>\n",
       "      <th>LDA</th>\n",
       "      <td>0.863022</td>\n",
       "      <td>0.000000</td>\n",
       "      <td>0.431511</td>\n",
       "      <td>0.191234</td>\n",
       "    </tr>\n",
       "    <tr>\n",
       "      <th>QDA</th>\n",
       "      <td>0.861872</td>\n",
       "      <td>0.003283</td>\n",
       "      <td>0.432578</td>\n",
       "      <td>0.139531</td>\n",
       "    </tr>\n",
       "    <tr>\n",
       "      <th>Decision Tree</th>\n",
       "      <td>0.863010</td>\n",
       "      <td>0.000000</td>\n",
       "      <td>0.431505</td>\n",
       "      <td>0.139933</td>\n",
       "    </tr>\n",
       "    <tr>\n",
       "      <th>Random Forest</th>\n",
       "      <td>0.863022</td>\n",
       "      <td>0.000000</td>\n",
       "      <td>0.431511</td>\n",
       "      <td>0.792695</td>\n",
       "    </tr>\n",
       "    <tr>\n",
       "      <th rowspan=\"7\" valign=\"top\">Third</th>\n",
       "      <th>Logistic Regression</th>\n",
       "      <td>0.542275</td>\n",
       "      <td>0.008214</td>\n",
       "      <td>0.275244</td>\n",
       "      <td>0.457905</td>\n",
       "    </tr>\n",
       "    <tr>\n",
       "      <th>Multinomial Naive Bayes</th>\n",
       "      <td>0.541504</td>\n",
       "      <td>0.023784</td>\n",
       "      <td>0.282644</td>\n",
       "      <td>0.107837</td>\n",
       "    </tr>\n",
       "    <tr>\n",
       "      <th>Gaussian Naive Bayes</th>\n",
       "      <td>0.509079</td>\n",
       "      <td>0.533602</td>\n",
       "      <td>0.521341</td>\n",
       "      <td>0.174282</td>\n",
       "    </tr>\n",
       "    <tr>\n",
       "      <th>LDA</th>\n",
       "      <td>0.542275</td>\n",
       "      <td>0.008214</td>\n",
       "      <td>0.275244</td>\n",
       "      <td>0.202909</td>\n",
       "    </tr>\n",
       "    <tr>\n",
       "      <th>QDA</th>\n",
       "      <td>0.508852</td>\n",
       "      <td>0.534113</td>\n",
       "      <td>0.521482</td>\n",
       "      <td>0.147819</td>\n",
       "    </tr>\n",
       "    <tr>\n",
       "      <th>Decision Tree</th>\n",
       "      <td>0.542490</td>\n",
       "      <td>0.003468</td>\n",
       "      <td>0.272979</td>\n",
       "      <td>0.144847</td>\n",
       "    </tr>\n",
       "    <tr>\n",
       "      <th>Random Forest</th>\n",
       "      <td>0.542325</td>\n",
       "      <td>0.000772</td>\n",
       "      <td>0.271549</td>\n",
       "      <td>0.841812</td>\n",
       "    </tr>\n",
       "    <tr>\n",
       "      <th rowspan=\"7\" valign=\"top\">Fourth</th>\n",
       "      <th>Logistic Regression</th>\n",
       "      <td>0.606568</td>\n",
       "      <td>0.755111</td>\n",
       "      <td>0.680839</td>\n",
       "      <td>0.432145</td>\n",
       "    </tr>\n",
       "    <tr>\n",
       "      <th>Multinomial Naive Bayes</th>\n",
       "      <td>0.606568</td>\n",
       "      <td>0.755111</td>\n",
       "      <td>0.680839</td>\n",
       "      <td>0.107182</td>\n",
       "    </tr>\n",
       "    <tr>\n",
       "      <th>Gaussian Naive Bayes</th>\n",
       "      <td>0.606568</td>\n",
       "      <td>0.755111</td>\n",
       "      <td>0.680839</td>\n",
       "      <td>0.171254</td>\n",
       "    </tr>\n",
       "    <tr>\n",
       "      <th>LDA</th>\n",
       "      <td>0.606568</td>\n",
       "      <td>0.755111</td>\n",
       "      <td>0.680839</td>\n",
       "      <td>0.198734</td>\n",
       "    </tr>\n",
       "    <tr>\n",
       "      <th>QDA</th>\n",
       "      <td>0.606568</td>\n",
       "      <td>0.755111</td>\n",
       "      <td>0.680839</td>\n",
       "      <td>0.141184</td>\n",
       "    </tr>\n",
       "    <tr>\n",
       "      <th>Decision Tree</th>\n",
       "      <td>0.606606</td>\n",
       "      <td>0.755094</td>\n",
       "      <td>0.680850</td>\n",
       "      <td>0.145219</td>\n",
       "    </tr>\n",
       "    <tr>\n",
       "      <th>Random Forest</th>\n",
       "      <td>0.606556</td>\n",
       "      <td>0.755101</td>\n",
       "      <td>0.680828</td>\n",
       "      <td>0.825477</td>\n",
       "    </tr>\n",
       "  </tbody>\n",
       "</table>\n",
       "</div>"
      ],
      "text/plain": [
       "                                Accuracy        f1  Mean (f1 and accuracy)  \\\n",
       "       Classifier                                                            \n",
       "First  Logistic Regression      0.769160  0.869520                0.819340   \n",
       "       Multinomial Naive Bayes  0.769160  0.869520                0.819340   \n",
       "       Gaussian Naive Bayes     0.769059  0.869442                0.819250   \n",
       "       LDA                      0.769160  0.869520                0.819340   \n",
       "       QDA                      0.769021  0.869414                0.819218   \n",
       "       Decision Tree            0.769147  0.869512                0.819329   \n",
       "       Random Forest            0.769160  0.869520                0.819340   \n",
       "Second Logistic Regression      0.863022  0.000000                0.431511   \n",
       "       Multinomial Naive Bayes  0.863022  0.000000                0.431511   \n",
       "       Gaussian Naive Bayes     0.861696  0.004366                0.433031   \n",
       "       LDA                      0.863022  0.000000                0.431511   \n",
       "       QDA                      0.861872  0.003283                0.432578   \n",
       "       Decision Tree            0.863010  0.000000                0.431505   \n",
       "       Random Forest            0.863022  0.000000                0.431511   \n",
       "Third  Logistic Regression      0.542275  0.008214                0.275244   \n",
       "       Multinomial Naive Bayes  0.541504  0.023784                0.282644   \n",
       "       Gaussian Naive Bayes     0.509079  0.533602                0.521341   \n",
       "       LDA                      0.542275  0.008214                0.275244   \n",
       "       QDA                      0.508852  0.534113                0.521482   \n",
       "       Decision Tree            0.542490  0.003468                0.272979   \n",
       "       Random Forest            0.542325  0.000772                0.271549   \n",
       "Fourth Logistic Regression      0.606568  0.755111                0.680839   \n",
       "       Multinomial Naive Bayes  0.606568  0.755111                0.680839   \n",
       "       Gaussian Naive Bayes     0.606568  0.755111                0.680839   \n",
       "       LDA                      0.606568  0.755111                0.680839   \n",
       "       QDA                      0.606568  0.755111                0.680839   \n",
       "       Decision Tree            0.606606  0.755094                0.680850   \n",
       "       Random Forest            0.606556  0.755101                0.680828   \n",
       "\n",
       "                                duration  \n",
       "       Classifier                         \n",
       "First  Logistic Regression      0.634491  \n",
       "       Multinomial Naive Bayes  0.114032  \n",
       "       Gaussian Naive Bayes     0.168010  \n",
       "       LDA                      0.247898  \n",
       "       QDA                      0.137647  \n",
       "       Decision Tree            0.147280  \n",
       "       Random Forest            0.810233  \n",
       "Second Logistic Regression      0.577717  \n",
       "       Multinomial Naive Bayes  0.098968  \n",
       "       Gaussian Naive Bayes     0.167082  \n",
       "       LDA                      0.191234  \n",
       "       QDA                      0.139531  \n",
       "       Decision Tree            0.139933  \n",
       "       Random Forest            0.792695  \n",
       "Third  Logistic Regression      0.457905  \n",
       "       Multinomial Naive Bayes  0.107837  \n",
       "       Gaussian Naive Bayes     0.174282  \n",
       "       LDA                      0.202909  \n",
       "       QDA                      0.147819  \n",
       "       Decision Tree            0.144847  \n",
       "       Random Forest            0.841812  \n",
       "Fourth Logistic Regression      0.432145  \n",
       "       Multinomial Naive Bayes  0.107182  \n",
       "       Gaussian Naive Bayes     0.171254  \n",
       "       LDA                      0.198734  \n",
       "       QDA                      0.141184  \n",
       "       Decision Tree            0.145219  \n",
       "       Random Forest            0.825477  "
      ]
     },
     "execution_count": 39,
     "metadata": {},
     "output_type": "execute_result"
    }
   ],
   "source": [
    "pd.concat(rdfs, axis = 0, keys = ['First', 'Second', 'Third', 'Fourth'])"
   ]
  },
  {
   "cell_type": "markdown",
   "metadata": {
    "_uuid": "e247aef98585697fa96d824fd64a8755c408cce4",
    "collapsed": true
   },
   "source": [
    "<h3>Therefore, we will be using the following classifiers for each axis:</h3>\n",
    "\n",
    "<ul>\n",
    "    <ol><strong>I vs E</strong>: Multinomial Naive Bayes (best avg accuracy and f1 plus is fastest)</ol>\n",
    "    <ol><strong>N vs S</strong>: Multinomial Naive Bayes (best avg accuracy and f1 plus is fastest)</ol>\n",
    "    <ol><strong>T vs F</strong>: Qudratic Discriminant Analysis (best avg acc and f1 plus is fastest)</ol>\n",
    "    <ol><strong>J vs P</strong>: Multinomial Naive Bayes (best avg accuracy and f1 plus is fastest)</ol>\n",
    "</ul>"
   ]
  },
  {
   "cell_type": "code",
   "execution_count": 40,
   "metadata": {
    "collapsed": true
   },
   "outputs": [],
   "source": [
    "selected_classifiers = {'IE':MultinomialNB(), 'NS':MultinomialNB(), 'TF':QDA(), 'JP':MultinomialNB()}"
   ]
  },
  {
   "cell_type": "code",
   "execution_count": 41,
   "metadata": {
    "collapsed": true
   },
   "outputs": [],
   "source": [
    "# find the best combination of parameters\n",
    "\n",
    "mnb = {'alpha': [0.0, 0.1, 0.2, 0.3, 0.4, 0.5, 0.6, 0.7, 0.8, 0.9, 1.0], 'fit_prior': (True, False)}\n",
    "\n",
    "qda = {'priors':[[0.1, 0.9],[0.2, 0.8], [0.3, 0.7], [0.4, 0.6],[0.5, 0.5], [0.6, 0.7], [0.7, 0.3], [0.8, 0.2], [0.9, 0.1]] , 'reg_param': [0.1, 0.2, 0.3, 0.4, 0.5, 0.6, 0.7, 0.8 ,0.9, 1.0]}"
   ]
  },
  {
   "cell_type": "code",
   "execution_count": 45,
   "metadata": {},
   "outputs": [
    {
     "name": "stderr",
     "output_type": "stream",
     "text": [
      "/home/ubuntu/anaconda3/lib/python3.6/site-packages/sklearn/naive_bayes.py:472: UserWarning: alpha too small will result in numeric errors, setting alpha = 1.0e-10\n",
      "  'setting alpha = %.1e' % _ALPHA_MIN)\n",
      "/home/ubuntu/anaconda3/lib/python3.6/site-packages/sklearn/naive_bayes.py:472: UserWarning: alpha too small will result in numeric errors, setting alpha = 1.0e-10\n",
      "  'setting alpha = %.1e' % _ALPHA_MIN)\n",
      "/home/ubuntu/anaconda3/lib/python3.6/site-packages/sklearn/naive_bayes.py:472: UserWarning: alpha too small will result in numeric errors, setting alpha = 1.0e-10\n",
      "  'setting alpha = %.1e' % _ALPHA_MIN)\n",
      "/home/ubuntu/anaconda3/lib/python3.6/site-packages/sklearn/naive_bayes.py:472: UserWarning: alpha too small will result in numeric errors, setting alpha = 1.0e-10\n",
      "  'setting alpha = %.1e' % _ALPHA_MIN)\n",
      "/home/ubuntu/anaconda3/lib/python3.6/site-packages/sklearn/naive_bayes.py:472: UserWarning: alpha too small will result in numeric errors, setting alpha = 1.0e-10\n",
      "  'setting alpha = %.1e' % _ALPHA_MIN)\n",
      "/home/ubuntu/anaconda3/lib/python3.6/site-packages/sklearn/naive_bayes.py:472: UserWarning: alpha too small will result in numeric errors, setting alpha = 1.0e-10\n",
      "  'setting alpha = %.1e' % _ALPHA_MIN)\n",
      "/home/ubuntu/anaconda3/lib/python3.6/site-packages/sklearn/naive_bayes.py:472: UserWarning: alpha too small will result in numeric errors, setting alpha = 1.0e-10\n",
      "  'setting alpha = %.1e' % _ALPHA_MIN)\n",
      "/home/ubuntu/anaconda3/lib/python3.6/site-packages/sklearn/naive_bayes.py:472: UserWarning: alpha too small will result in numeric errors, setting alpha = 1.0e-10\n",
      "  'setting alpha = %.1e' % _ALPHA_MIN)\n",
      "/home/ubuntu/anaconda3/lib/python3.6/site-packages/sklearn/naive_bayes.py:472: UserWarning: alpha too small will result in numeric errors, setting alpha = 1.0e-10\n",
      "  'setting alpha = %.1e' % _ALPHA_MIN)\n",
      "/home/ubuntu/anaconda3/lib/python3.6/site-packages/sklearn/naive_bayes.py:472: UserWarning: alpha too small will result in numeric errors, setting alpha = 1.0e-10\n",
      "  'setting alpha = %.1e' % _ALPHA_MIN)\n",
      "/home/ubuntu/anaconda3/lib/python3.6/site-packages/sklearn/naive_bayes.py:472: UserWarning: alpha too small will result in numeric errors, setting alpha = 1.0e-10\n",
      "  'setting alpha = %.1e' % _ALPHA_MIN)\n",
      "/home/ubuntu/anaconda3/lib/python3.6/site-packages/sklearn/naive_bayes.py:472: UserWarning: alpha too small will result in numeric errors, setting alpha = 1.0e-10\n",
      "  'setting alpha = %.1e' % _ALPHA_MIN)\n",
      "/home/ubuntu/anaconda3/lib/python3.6/site-packages/sklearn/naive_bayes.py:472: UserWarning: alpha too small will result in numeric errors, setting alpha = 1.0e-10\n",
      "  'setting alpha = %.1e' % _ALPHA_MIN)\n",
      "/home/ubuntu/anaconda3/lib/python3.6/site-packages/sklearn/naive_bayes.py:472: UserWarning: alpha too small will result in numeric errors, setting alpha = 1.0e-10\n",
      "  'setting alpha = %.1e' % _ALPHA_MIN)\n",
      "/home/ubuntu/anaconda3/lib/python3.6/site-packages/sklearn/naive_bayes.py:472: UserWarning: alpha too small will result in numeric errors, setting alpha = 1.0e-10\n",
      "  'setting alpha = %.1e' % _ALPHA_MIN)\n",
      "/home/ubuntu/anaconda3/lib/python3.6/site-packages/sklearn/naive_bayes.py:472: UserWarning: alpha too small will result in numeric errors, setting alpha = 1.0e-10\n",
      "  'setting alpha = %.1e' % _ALPHA_MIN)\n",
      "/home/ubuntu/anaconda3/lib/python3.6/site-packages/sklearn/naive_bayes.py:472: UserWarning: alpha too small will result in numeric errors, setting alpha = 1.0e-10\n",
      "  'setting alpha = %.1e' % _ALPHA_MIN)\n",
      "/home/ubuntu/anaconda3/lib/python3.6/site-packages/sklearn/naive_bayes.py:472: UserWarning: alpha too small will result in numeric errors, setting alpha = 1.0e-10\n",
      "  'setting alpha = %.1e' % _ALPHA_MIN)\n",
      "/home/ubuntu/anaconda3/lib/python3.6/site-packages/sklearn/naive_bayes.py:472: UserWarning: alpha too small will result in numeric errors, setting alpha = 1.0e-10\n",
      "  'setting alpha = %.1e' % _ALPHA_MIN)\n",
      "/home/ubuntu/anaconda3/lib/python3.6/site-packages/sklearn/naive_bayes.py:472: UserWarning: alpha too small will result in numeric errors, setting alpha = 1.0e-10\n",
      "  'setting alpha = %.1e' % _ALPHA_MIN)\n"
     ]
    },
    {
     "name": "stdout",
     "output_type": "stream",
     "text": [
      "GridSearchCV(cv=None, error_score='raise',\n",
      "       estimator=QuadraticDiscriminantAnalysis(priors=None, reg_param=0.0,\n",
      "               store_covariance=False, store_covariances=None, tol=0.0001),\n",
      "       fit_params=None, iid=True, n_jobs=1,\n",
      "       param_grid={'priors': [[0.1, 0.9], [0.2, 0.8], [0.3, 0.7], [0.4, 0.6], [0.5, 0.5], [0.6, 0.7], [0.7, 0.3], [0.8, 0.2], [0.9, 0.1]], 'reg_param': [0.1, 0.2, 0.3, 0.4, 0.5, 0.6, 0.7, 0.8, 0.9, 1.0]},\n",
      "       pre_dispatch='2*n_jobs', refit=True, return_train_score='warn',\n",
      "       scoring=None, verbose=0)\n"
     ]
    },
    {
     "name": "stderr",
     "output_type": "stream",
     "text": [
      "/home/ubuntu/anaconda3/lib/python3.6/site-packages/sklearn/naive_bayes.py:472: UserWarning: alpha too small will result in numeric errors, setting alpha = 1.0e-10\n",
      "  'setting alpha = %.1e' % _ALPHA_MIN)\n"
     ]
    }
   ],
   "source": [
    "from sklearn.model_selection import GridSearchCV\n",
    "\n",
    "mcl1 = GridSearchCV(selected_classifiers['IE'], mnb)\n",
    "\n",
    "clf1 = mcl1.fit(X_train1, y_train1)\n",
    "\n",
    "\n",
    "mcl2 = GridSearchCV(selected_classifiers['NS'], mnb)\n",
    "\n",
    "clf2 = mcl2.fit(X_train2, y_train2)\n",
    "\n",
    "\n",
    "qda3 = GridSearchCV(selected_classifiers['TF'], qda)\n",
    "\n",
    "clf3 = qda3.fit(X_train3.toarray(), y_train3)\n",
    "\n",
    "\n",
    "mcl4 = GridSearchCV(selected_classifiers['JP'], mnb)\n",
    "\n",
    "clf4 = mcl4.fit(X_train4, y_train4)\n",
    "\n",
    "print(clf3)"
   ]
  },
  {
   "cell_type": "code",
   "execution_count": 55,
   "metadata": {},
   "outputs": [],
   "source": [
    "\n",
    "\n",
    "\n",
    "p1 = clf1.predict(cv.transform(test['posts']))\n",
    "\n",
    "p2 = clf2.predict(cv.transform(test['posts']))\n",
    "\n",
    "p3 = clf3.predict(cv.transform(test['posts']).toarray())\n",
    "\n",
    "p4 = clf4.predict(cv.transform(test['posts']))"
   ]
  },
  {
   "cell_type": "code",
   "execution_count": 56,
   "metadata": {},
   "outputs": [],
   "source": [
    "test['E/I'] = le1.inverse_transform(p1)"
   ]
  },
  {
   "cell_type": "code",
   "execution_count": 57,
   "metadata": {},
   "outputs": [
    {
     "data": {
      "text/html": [
       "<div>\n",
       "<style>\n",
       "    .dataframe thead tr:only-child th {\n",
       "        text-align: right;\n",
       "    }\n",
       "\n",
       "    .dataframe thead th {\n",
       "        text-align: left;\n",
       "    }\n",
       "\n",
       "    .dataframe tbody tr th {\n",
       "        vertical-align: top;\n",
       "    }\n",
       "</style>\n",
       "<table border=\"1\" class=\"dataframe\">\n",
       "  <thead>\n",
       "    <tr style=\"text-align: right;\">\n",
       "      <th></th>\n",
       "      <th>type</th>\n",
       "      <th>posts</th>\n",
       "      <th>E/I</th>\n",
       "    </tr>\n",
       "  </thead>\n",
       "  <tbody>\n",
       "    <tr>\n",
       "      <th>0</th>\n",
       "      <td>NaN</td>\n",
       "      <td>Musical  Linguistic Logic &amp; Naturalist (tied)|...</td>\n",
       "      <td>I</td>\n",
       "    </tr>\n",
       "    <tr>\n",
       "      <th>1</th>\n",
       "      <td>NaN</td>\n",
       "      <td>'You: hello :) Stranger: hii You: how are you ...</td>\n",
       "      <td>I</td>\n",
       "    </tr>\n",
       "    <tr>\n",
       "      <th>2</th>\n",
       "      <td>NaN</td>\n",
       "      <td>'What worked for me was knowing that limerence...</td>\n",
       "      <td>I</td>\n",
       "    </tr>\n",
       "    <tr>\n",
       "      <th>3</th>\n",
       "      <td>NaN</td>\n",
       "      <td>'Please forget about him. You should definitel...</td>\n",
       "      <td>I</td>\n",
       "    </tr>\n",
       "    <tr>\n",
       "      <th>4</th>\n",
       "      <td>NaN</td>\n",
       "      <td>'Ooh, ENTJ Celestia is actually an interesting...</td>\n",
       "      <td>I</td>\n",
       "    </tr>\n",
       "  </tbody>\n",
       "</table>\n",
       "</div>"
      ],
      "text/plain": [
       "   type                                              posts E/I\n",
       "0   NaN  Musical  Linguistic Logic & Naturalist (tied)|...   I\n",
       "1   NaN  'You: hello :) Stranger: hii You: how are you ...   I\n",
       "2   NaN  'What worked for me was knowing that limerence...   I\n",
       "3   NaN  'Please forget about him. You should definitel...   I\n",
       "4   NaN  'Ooh, ENTJ Celestia is actually an interesting...   I"
      ]
     },
     "execution_count": 57,
     "metadata": {},
     "output_type": "execute_result"
    }
   ],
   "source": [
    "test.head()"
   ]
  },
  {
   "cell_type": "code",
   "execution_count": 58,
   "metadata": {
    "collapsed": true
   },
   "outputs": [],
   "source": [
    "test['N/S'] = le2.inverse_transform(p2)\n",
    "\n",
    "test['T/F'] = le3.inverse_transform(p3)\n",
    "\n",
    "test['J/P'] = le4.inverse_transform(p4)"
   ]
  },
  {
   "cell_type": "code",
   "execution_count": 60,
   "metadata": {},
   "outputs": [],
   "source": [
    "test.drop('type', inplace = True, axis = 1)"
   ]
  },
  {
   "cell_type": "code",
   "execution_count": 61,
   "metadata": {},
   "outputs": [
    {
     "data": {
      "text/html": [
       "<div>\n",
       "<style>\n",
       "    .dataframe thead tr:only-child th {\n",
       "        text-align: right;\n",
       "    }\n",
       "\n",
       "    .dataframe thead th {\n",
       "        text-align: left;\n",
       "    }\n",
       "\n",
       "    .dataframe tbody tr th {\n",
       "        vertical-align: top;\n",
       "    }\n",
       "</style>\n",
       "<table border=\"1\" class=\"dataframe\">\n",
       "  <thead>\n",
       "    <tr style=\"text-align: right;\">\n",
       "      <th></th>\n",
       "      <th>posts</th>\n",
       "      <th>E/I</th>\n",
       "      <th>N/S</th>\n",
       "      <th>T/F</th>\n",
       "      <th>J/P</th>\n",
       "    </tr>\n",
       "  </thead>\n",
       "  <tbody>\n",
       "    <tr>\n",
       "      <th>0</th>\n",
       "      <td>Musical  Linguistic Logic &amp; Naturalist (tied)|...</td>\n",
       "      <td>I</td>\n",
       "      <td>N</td>\n",
       "      <td>F</td>\n",
       "      <td>P</td>\n",
       "    </tr>\n",
       "    <tr>\n",
       "      <th>1</th>\n",
       "      <td>'You: hello :) Stranger: hii You: how are you ...</td>\n",
       "      <td>I</td>\n",
       "      <td>N</td>\n",
       "      <td>F</td>\n",
       "      <td>P</td>\n",
       "    </tr>\n",
       "    <tr>\n",
       "      <th>2</th>\n",
       "      <td>'What worked for me was knowing that limerence...</td>\n",
       "      <td>I</td>\n",
       "      <td>N</td>\n",
       "      <td>F</td>\n",
       "      <td>P</td>\n",
       "    </tr>\n",
       "    <tr>\n",
       "      <th>3</th>\n",
       "      <td>'Please forget about him. You should definitel...</td>\n",
       "      <td>I</td>\n",
       "      <td>N</td>\n",
       "      <td>F</td>\n",
       "      <td>P</td>\n",
       "    </tr>\n",
       "    <tr>\n",
       "      <th>4</th>\n",
       "      <td>'Ooh, ENTJ Celestia is actually an interesting...</td>\n",
       "      <td>I</td>\n",
       "      <td>N</td>\n",
       "      <td>F</td>\n",
       "      <td>P</td>\n",
       "    </tr>\n",
       "  </tbody>\n",
       "</table>\n",
       "</div>"
      ],
      "text/plain": [
       "                                               posts E/I N/S T/F J/P\n",
       "0  Musical  Linguistic Logic & Naturalist (tied)|...   I   N   F   P\n",
       "1  'You: hello :) Stranger: hii You: how are you ...   I   N   F   P\n",
       "2  'What worked for me was knowing that limerence...   I   N   F   P\n",
       "3  'Please forget about him. You should definitel...   I   N   F   P\n",
       "4  'Ooh, ENTJ Celestia is actually an interesting...   I   N   F   P"
      ]
     },
     "execution_count": 61,
     "metadata": {},
     "output_type": "execute_result"
    }
   ],
   "source": [
    "test.head()"
   ]
  },
  {
   "cell_type": "code",
   "execution_count": 62,
   "metadata": {
    "collapsed": true
   },
   "outputs": [],
   "source": [
    "test.to_csv('submission.csv')"
   ]
  },
  {
   "cell_type": "code",
   "execution_count": null,
   "metadata": {
    "collapsed": true
   },
   "outputs": [],
   "source": []
  }
 ],
 "metadata": {
  "kernelspec": {
   "display_name": "Python 3",
   "language": "python",
   "name": "python3"
  },
  "language_info": {
   "codemirror_mode": {
    "name": "ipython",
    "version": 3
   },
   "file_extension": ".py",
   "mimetype": "text/x-python",
   "name": "python",
   "nbconvert_exporter": "python",
   "pygments_lexer": "ipython3",
   "version": "3.6.4"
  }
 },
 "nbformat": 4,
 "nbformat_minor": 1
}
